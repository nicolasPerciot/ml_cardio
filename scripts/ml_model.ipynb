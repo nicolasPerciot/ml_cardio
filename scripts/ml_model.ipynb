{
 "cells": [
  {
   "attachments": {},
   "cell_type": "markdown",
   "metadata": {},
   "source": [
    "# Import Libraries"
   ]
  },
  {
   "cell_type": "code",
   "execution_count": 1,
   "metadata": {},
   "outputs": [
    {
     "name": "stderr",
     "output_type": "stream",
     "text": [
      "c:\\Users\\nperc\\Documents\\Datathon\\01_iHeath_env2\\lib\\site-packages\\numpy\\_distributor_init.py:30: UserWarning: loaded more than 1 DLL from .libs:\n",
      "c:\\Users\\nperc\\Documents\\Datathon\\01_iHeath_env2\\lib\\site-packages\\numpy\\.libs\\libopenblas.FB5AE2TYXYH2IJRDKGDGQ3XBKLKTF43H.gfortran-win_amd64.dll\n",
      "c:\\Users\\nperc\\Documents\\Datathon\\01_iHeath_env2\\lib\\site-packages\\numpy\\.libs\\libopenblas64__v0.3.21-gcc_10_3_0.dll\n",
      "  warnings.warn(\"loaded more than 1 DLL from .libs:\"\n"
     ]
    }
   ],
   "source": [
    "import os\n",
    "import sys\n",
    "import pandas as pd\n",
    "\n",
    "from sklearn.svm import SVC\n",
    "from imblearn.over_sampling import SMOTE\n",
    "from sklearn.ensemble import AdaBoostClassifier\n",
    "from sklearn.tree import DecisionTreeClassifier\n",
    "from sklearn.ensemble import RandomForestClassifier\n",
    "from sklearn.linear_model import LogisticRegression\n",
    "from sklearn.model_selection import train_test_split\n",
    "from sklearn.metrics import confusion_matrix, classification_report, accuracy_score"
   ]
  },
  {
   "attachments": {},
   "cell_type": "markdown",
   "metadata": {},
   "source": [
    "# Prepare data"
   ]
  },
  {
   "cell_type": "code",
   "execution_count": 2,
   "metadata": {},
   "outputs": [],
   "source": [
    "path_dir = os.path.dirname(os.path.abspath(''))"
   ]
  },
  {
   "cell_type": "code",
   "execution_count": 3,
   "metadata": {},
   "outputs": [],
   "source": [
    "sys.path.append(os.path.join(path_dir, 'scripts\\\\common'))\n",
    "import tool"
   ]
  },
  {
   "cell_type": "code",
   "execution_count": 9,
   "metadata": {},
   "outputs": [],
   "source": [
    "binary_columns      = ['Sex']\n",
    "\n",
    "data = pd.read_excel('C:\\\\Users\\\\nperc\\\\Documents\\\\Datathon\\\\data\\\\Tableur données datathon.xlsx')\n",
    "\n",
    "# y = data['CHA2DS2-VASc']\n",
    "# X = data.drop('CHA2DS2-VASc', axis=1)"
   ]
  },
  {
   "cell_type": "code",
   "execution_count": 10,
   "metadata": {},
   "outputs": [
    {
     "data": {
      "text/plain": [
       "Index(['Num patient', 'Num etude', 'DDN', 'date d'inclusion', 'Age ', 'Female',\n",
       "       'Congestive_Heart_Failure', 'HTA', 'DIABETES', 'Stroke',\n",
       "       'vascular_disease', 'poids', 'taille', 'IMC', 'CHA2DS2_VASc', 'SAS',\n",
       "       'Tabac ', 'DYSLIPIDEMIE', 'Longueur_axiale', 'Unnamed: 19', 'PIO',\n",
       "       'Unnamed: 21', 'Volume_OCTA', 'Angio_en_face_OCTA_sup',\n",
       "       'Angio_en_face_OCTA_deep', 'Angio_en_face_OCTA_cc', 'SIDE_OCTA',\n",
       "       'FAZRawLength_OD', 'FazCircularity_OD', 'FAZRawSize_OD',\n",
       "       'FAZRawLength_OG', 'FazCircularity_OG', 'FAZRawSize_OG',\n",
       "       'DENS_Average_FOV_sup_OD', 'DENS_Circle3mm_sup_OD',\n",
       "       'DENS_Circle6mm_sup_OD', 'DENS_Average_FOV_sup_OG',\n",
       "       'DENS_Circle3mm_sup_OG', 'DENS_Circle6mm_sup_OG',\n",
       "       'PERF_Average_FOV_sup_OD', 'PERF_Circle3mm_sup_OD',\n",
       "       'PERF_Circle6mm_sup_OD', 'PERF_Average_FOV_sup_OG',\n",
       "       'PERF_Circle3mm_sup_OG', 'PERF_Circle6mm_sup_OG',\n",
       "       'DENS_Average_FOV_deep_OD', 'DENS_Circle3mm_deep_OD',\n",
       "       'DENS_Circle6mm_deep_OD', 'DENS_Average_FOV_deep_OG',\n",
       "       'DENS_Circle3mm_deep_OG', 'DENS_Circle6mm_deep_OG',\n",
       "       'PERF_Average_FOV_deep_OD', 'PERF_Circle3mm_deep_OD',\n",
       "       'PERF_Circle6mm_deep_OD', 'PERF_Average_FOV_deep_OG',\n",
       "       'PERF_Circle3mm_deep_OG', 'PERF_Circle6mm_deep_OG'],\n",
       "      dtype='object')"
      ]
     },
     "execution_count": 10,
     "metadata": {},
     "output_type": "execute_result"
    }
   ],
   "source": [
    "data.columns"
   ]
  },
  {
   "attachments": {},
   "cell_type": "markdown",
   "metadata": {},
   "source": [
    "## Preprocessing"
   ]
  },
  {
   "cell_type": "code",
   "execution_count": 5,
   "metadata": {},
   "outputs": [],
   "source": [
    "preprocessor = tool.make_preprocess(X, binary_columns)\n",
    "\n",
    "X = preprocessor.fit_transform(X)"
   ]
  },
  {
   "attachments": {},
   "cell_type": "markdown",
   "metadata": {},
   "source": [
    "## Model definition"
   ]
  },
  {
   "cell_type": "code",
   "execution_count": 6,
   "metadata": {},
   "outputs": [],
   "source": [
    "lr_model = LogisticRegression\n",
    "\n",
    "lr_param = {\"C\":[0.001, 0.01, 0.1, 1, 10, 100, 1000], \"solver\":[\"newton-cg\", \"lbfgs\", \"liblinear\"], \"penalty\":[\"l2\"]}\n",
    "\n",
    "tree_model = DecisionTreeClassifier\n",
    "\n",
    "tree_param = {\n",
    "    'max_features'  : ['sqrt', 'log2'],\n",
    "    'ccp_alpha'     : [0.1, .01, .001],\n",
    "    'max_depth'     : [2, 4, 6, 8, 10, 12],\n",
    "    'criterion'     : ['gini', 'entropy']\n",
    "    }\n",
    "\n",
    "forest_model = RandomForestClassifier\n",
    "\n",
    "forest_param = {\n",
    "    'bootstrap'         : [True, False],\n",
    "    'max_depth'         : [8, 10, 12, 15],\n",
    "    'max_features'      : ['sqrt', 'log2'],\n",
    "    'ccp_alpha'         : [0.1, .01, .001],\n",
    "    'n_estimators'      : [20, 50],\n",
    "    'criterion'         : ['gini', 'entropy']\n",
    "    }\n",
    "\n",
    "svc_model = SVC\n",
    "\n",
    "svc_param = {\n",
    "    'C'         :[0.001, 0.01, 0.1, 1, 10, 100, 1000],\n",
    "    'gamma'     :[1,0.1,0.001,0.0001],\n",
    "    'kernel'    :['linear', 'poly', 'rbf', 'sigmoid']\n",
    "}"
   ]
  },
  {
   "attachments": {},
   "cell_type": "markdown",
   "metadata": {},
   "source": [
    "### Split dataset to find best parameters"
   ]
  },
  {
   "cell_type": "code",
   "execution_count": 10,
   "metadata": {},
   "outputs": [],
   "source": [
    "nb_fold = 10"
   ]
  },
  {
   "cell_type": "code",
   "execution_count": 11,
   "metadata": {},
   "outputs": [],
   "source": [
    "index_train, index_test             = tool.dataset_split_index(X, y, fold=nb_fold)"
   ]
  },
  {
   "attachments": {},
   "cell_type": "markdown",
   "metadata": {},
   "source": [
    "## Find best parameters"
   ]
  },
  {
   "cell_type": "code",
   "execution_count": 12,
   "metadata": {},
   "outputs": [],
   "source": [
    "k_neighbors_smote = None"
   ]
  },
  {
   "cell_type": "code",
   "execution_count": 13,
   "metadata": {},
   "outputs": [],
   "source": [
    "lr_report, lr_index_fold                = tool.find_best_grid(lr_model(random_state=42), X, y, index_train, index_test, param=lr_param, k_neighbors_smote=k_neighbors_smote)\n",
    "tree_report, tree_index_fold            = tool.find_best_grid(tree_model(random_state=42), X, y, index_train, index_test, param=tree_param, k_neighbors_smote=k_neighbors_smote)\n",
    "forest_report, forest_index_fold        = tool.find_best_grid(forest_model(random_state=42), X, y, index_train, index_test, param=forest_param, k_neighbors_smote=k_neighbors_smote)\n",
    "svc_report, svc_index_fold              = tool.find_best_grid(svc_model(random_state=42), X, y, index_train, index_test, param=svc_param, k_neighbors_smote=k_neighbors_smote)"
   ]
  },
  {
   "attachments": {},
   "cell_type": "markdown",
   "metadata": {},
   "source": [
    "### Function to train model and display the metrics"
   ]
  },
  {
   "cell_type": "code",
   "execution_count": null,
   "metadata": {},
   "outputs": [],
   "source": [
    "def train_pred(model, report, X, y, index_fold) :\n",
    "    \n",
    "    X_train, y_train, X_test, y_test = tool.split_train(X, y, index_train[index_fold], index_test[index_fold])\n",
    "    \n",
    "    model       = model(**report['best_grid'], random_state=42)\n",
    "    \n",
    "    model.fit(X_train, y_train)\n",
    "    y_pred      = model.predict(X_test)\n",
    "    \n",
    "    print('Mean accuracy : ' + str(report['best_mean_score']))\n",
    "    print('Standard deviation : ' + str(report['best_st_score']))\n",
    "    print('Accuracy : ' + str(accuracy_score(y_test, y_pred)))\n",
    "    print(confusion_matrix(y_test, y_pred))"
   ]
  },
  {
   "attachments": {},
   "cell_type": "markdown",
   "metadata": {},
   "source": [
    "## Logistic Regression"
   ]
  },
  {
   "cell_type": "code",
   "execution_count": null,
   "metadata": {},
   "outputs": [
    {
     "name": "stdout",
     "output_type": "stream",
     "text": [
      "Mean accuracy : 0.7353877551020408\n",
      "Standard deviation : 0.03627515284418828\n",
      "Accuracy : 0.7959183673469388\n",
      "[[26  3  0]\n",
      " [ 4  9  0]\n",
      " [ 0  3  4]]\n"
     ]
    }
   ],
   "source": [
    "train_pred(lr_model, lr_report, X, y, lr_index_fold)"
   ]
  },
  {
   "attachments": {},
   "cell_type": "markdown",
   "metadata": {},
   "source": [
    "## Decision Tree"
   ]
  },
  {
   "cell_type": "code",
   "execution_count": null,
   "metadata": {},
   "outputs": [
    {
     "name": "stdout",
     "output_type": "stream",
     "text": [
      "Mean accuracy : 0.6707346938775511\n",
      "Standard deviation : 0.02662091382531086\n",
      "Accuracy : 0.7142857142857143\n",
      "[[25  1  0]\n",
      " [ 5  9  1]\n",
      " [ 4  3  1]]\n"
     ]
    }
   ],
   "source": [
    "train_pred(tree_model, tree_report, X, y, tree_index_fold)"
   ]
  },
  {
   "attachments": {},
   "cell_type": "markdown",
   "metadata": {},
   "source": [
    "## Random Forest"
   ]
  },
  {
   "cell_type": "code",
   "execution_count": null,
   "metadata": {},
   "outputs": [
    {
     "name": "stdout",
     "output_type": "stream",
     "text": [
      "Mean accuracy : 0.6990612244897959\n",
      "Standard deviation : 0.03729238795094402\n",
      "Accuracy : 0.7959183673469388\n",
      "[[27  2  0]\n",
      " [ 4  9  0]\n",
      " [ 1  3  3]]\n"
     ]
    }
   ],
   "source": [
    "train_pred(forest_model, forest_report, X, y, forest_index_fold)"
   ]
  },
  {
   "attachments": {},
   "cell_type": "markdown",
   "metadata": {},
   "source": [
    "## SVC"
   ]
  },
  {
   "cell_type": "code",
   "execution_count": null,
   "metadata": {},
   "outputs": [
    {
     "name": "stdout",
     "output_type": "stream",
     "text": [
      "Mean accuracy : 0.7313469387755103\n",
      "Standard deviation : 0.05324733452392279\n",
      "Accuracy : 0.82\n",
      "[[28  4  0]\n",
      " [ 2 13  0]\n",
      " [ 0  3  0]]\n"
     ]
    }
   ],
   "source": [
    "train_pred(svc_model, svc_report, X, y, svc_index_fold)"
   ]
  }
 ],
 "metadata": {
  "kernelspec": {
   "display_name": "01_iHeart_env",
   "language": "python",
   "name": "python3"
  },
  "language_info": {
   "codemirror_mode": {
    "name": "ipython",
    "version": 3
   },
   "file_extension": ".py",
   "mimetype": "text/x-python",
   "name": "python",
   "nbconvert_exporter": "python",
   "pygments_lexer": "ipython3",
   "version": "3.10.9"
  },
  "orig_nbformat": 4
 },
 "nbformat": 4,
 "nbformat_minor": 2
}
